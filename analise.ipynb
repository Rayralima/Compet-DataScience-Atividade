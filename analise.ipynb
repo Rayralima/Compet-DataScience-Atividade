{
 "cells": [
  {
   "cell_type": "code",
   "execution_count": 35,
   "metadata": {},
   "outputs": [],
   "source": [
    "import pandas as pd\n",
    "import glob\n",
    "import matplotlib.pyplot as plt\n",
    "import seaborn as sns"
   ]
  },
  {
   "cell_type": "code",
   "execution_count": 4,
   "metadata": {},
   "outputs": [
    {
     "name": "stdout",
     "output_type": "stream",
     "text": [
      "['dataset\\\\INSE_2021_escolas.xlsx', 'dataset\\\\INSE_2021_estados.xlsx', 'dataset\\\\INSE_2021_municipios.xlsx', 'dataset\\\\INSE_2021__brasil.xlsx']\n"
     ]
    }
   ],
   "source": [
    "caminho_dos_arquivos = 'dataset/*.xlsx'\n",
    "lista_de_arquivos = glob.glob(caminho_dos_arquivos)\n",
    "print(lista_de_arquivos)"
   ]
  },
  {
   "cell_type": "code",
   "execution_count": 6,
   "metadata": {},
   "outputs": [],
   "source": [
    "lista_de_dataframes = []\n",
    "for arquivo in lista_de_arquivos:\n",
    "    df = pd.read_excel(arquivo)\n",
    "    lista_de_dataframes.append(df)"
   ]
  },
  {
   "cell_type": "code",
   "execution_count": 7,
   "metadata": {},
   "outputs": [],
   "source": [
    "df_consolidado = pd.concat(lista_de_dataframes, ignore_index=True)"
   ]
  },
  {
   "cell_type": "code",
   "execution_count": 9,
   "metadata": {},
   "outputs": [
    {
     "data": {
      "text/plain": [
       "Index(['NU_ANO_SAEB', 'CO_UF', 'SG_UF', 'NO_UF', 'CO_MUNICIPIO',\n",
       "       'NO_MUNICIPIO', 'ID_ESCOLA', 'NO_ESCOLA', 'TP_TIPO_REDE',\n",
       "       'TP_LOCALIZACAO', 'TP_CAPITAL', 'QTD_ALUNOS_INSE', 'MEDIA_INSE',\n",
       "       'INSE_CLASSIFICACAO', 'PC_NIVEL_1', 'PC_NIVEL_2', 'PC_NIVEL_3',\n",
       "       'PC_NIVEL_4', 'PC_NIVEL_5', 'PC_NIVEL_6', 'PC_NIVEL_7', 'PC_NIVEL_8'],\n",
       "      dtype='object')"
      ]
     },
     "execution_count": 9,
     "metadata": {},
     "output_type": "execute_result"
    }
   ],
   "source": [
    "df_consolidado.columns"
   ]
  },
  {
   "cell_type": "code",
   "execution_count": 10,
   "metadata": {},
   "outputs": [],
   "source": [
    "colunas_relevantes = ['NU_ANO_SAEB', 'SG_UF', 'NO_UF', 'NO_MUNICIPIO', 'NO_ESCOLA', 'ID_ESCOLA', 'TP_TIPO_REDE', 'TP_CAPITAL','QTD_ALUNOS_INSE', 'MEDIA_INSE','INSE_CLASSIFICACAO', 'PC_NIVEL_1', 'PC_NIVEL_2', 'PC_NIVEL_3',\n",
    "       'PC_NIVEL_4', 'PC_NIVEL_5', 'PC_NIVEL_6', 'PC_NIVEL_7', 'PC_NIVEL_8']\n",
    "df_selecionado = df_consolidado[colunas_relevantes].copy()"
   ]
  },
  {
   "cell_type": "code",
   "execution_count": 11,
   "metadata": {},
   "outputs": [
    {
     "data": {
      "text/plain": [
       "NU_ANO_SAEB               0\n",
       "SG_UF                    63\n",
       "NO_UF                    63\n",
       "NO_MUNICIPIO           1764\n",
       "NO_ESCOLA             84594\n",
       "ID_ESCOLA             84594\n",
       "TP_TIPO_REDE              0\n",
       "TP_CAPITAL                0\n",
       "QTD_ALUNOS_INSE           0\n",
       "MEDIA_INSE                0\n",
       "INSE_CLASSIFICACAO    84594\n",
       "PC_NIVEL_1            27430\n",
       "PC_NIVEL_2            27430\n",
       "PC_NIVEL_3            27430\n",
       "PC_NIVEL_4            27430\n",
       "PC_NIVEL_5            27430\n",
       "PC_NIVEL_6            27430\n",
       "PC_NIVEL_7            27430\n",
       "PC_NIVEL_8            27430\n",
       "dtype: int64"
      ]
     },
     "execution_count": 11,
     "metadata": {},
     "output_type": "execute_result"
    }
   ],
   "source": [
    "df_selecionado.isnull().sum()"
   ]
  },
  {
   "cell_type": "code",
   "execution_count": 12,
   "metadata": {},
   "outputs": [],
   "source": [
    "df_tratado = df_selecionado.copy()"
   ]
  },
  {
   "cell_type": "code",
   "execution_count": 13,
   "metadata": {},
   "outputs": [
    {
     "name": "stdout",
     "output_type": "stream",
     "text": [
      "Número de linhas após remover NaN em UF e Município: 152650\n"
     ]
    }
   ],
   "source": [
    "df_tratado.dropna(subset=['SG_UF', 'NO_UF', 'NO_MUNICIPIO'], inplace=True)\n",
    "print(f\"Número de linhas após remover NaN em UF e Município: {len(df_tratado)}\")"
   ]
  },
  {
   "cell_type": "code",
   "execution_count": 14,
   "metadata": {},
   "outputs": [
    {
     "name": "stdout",
     "output_type": "stream",
     "text": [
      "Colunas após remover NO_ESCOLA, ID_ESCOLA, INSE_CLASSIFICACAO: ['NU_ANO_SAEB', 'SG_UF', 'NO_UF', 'NO_MUNICIPIO', 'TP_TIPO_REDE', 'TP_CAPITAL', 'QTD_ALUNOS_INSE', 'MEDIA_INSE', 'PC_NIVEL_1', 'PC_NIVEL_2', 'PC_NIVEL_3', 'PC_NIVEL_4', 'PC_NIVEL_5', 'PC_NIVEL_6', 'PC_NIVEL_7', 'PC_NIVEL_8']\n"
     ]
    }
   ],
   "source": [
    "df_tratado.drop(columns=['NO_ESCOLA', 'ID_ESCOLA', 'INSE_CLASSIFICACAO'], inplace=True, errors='ignore')\n",
    "print(f\"Colunas após remover NO_ESCOLA, ID_ESCOLA, INSE_CLASSIFICACAO: {df_tratado.columns.tolist()}\")"
   ]
  },
  {
   "cell_type": "code",
   "execution_count": 15,
   "metadata": {},
   "outputs": [
    {
     "name": "stdout",
     "output_type": "stream",
     "text": [
      "Número de linhas após remover NaN nos percentuais de INSE: 125405\n"
     ]
    }
   ],
   "source": [
    "df_tratado.dropna(subset=['PC_NIVEL_1', 'PC_NIVEL_2', 'PC_NIVEL_3', 'PC_NIVEL_4', 'PC_NIVEL_5', 'PC_NIVEL_6', 'PC_NIVEL_7', 'PC_NIVEL_8'], inplace=True)\n",
    "print(f\"Número de linhas após remover NaN nos percentuais de INSE: {len(df_tratado)}\")"
   ]
  },
  {
   "cell_type": "code",
   "execution_count": 16,
   "metadata": {},
   "outputs": [
    {
     "name": "stdout",
     "output_type": "stream",
     "text": [
      "\n",
      "Valores faltantes após o tratamento:\n",
      "NU_ANO_SAEB        0\n",
      "SG_UF              0\n",
      "NO_UF              0\n",
      "NO_MUNICIPIO       0\n",
      "TP_TIPO_REDE       0\n",
      "TP_CAPITAL         0\n",
      "QTD_ALUNOS_INSE    0\n",
      "MEDIA_INSE         0\n",
      "PC_NIVEL_1         0\n",
      "PC_NIVEL_2         0\n",
      "PC_NIVEL_3         0\n",
      "PC_NIVEL_4         0\n",
      "PC_NIVEL_5         0\n",
      "PC_NIVEL_6         0\n",
      "PC_NIVEL_7         0\n",
      "PC_NIVEL_8         0\n",
      "dtype: int64\n"
     ]
    }
   ],
   "source": [
    "print(\"\\nValores faltantes após o tratamento:\")\n",
    "print(df_tratado.isnull().sum())"
   ]
  },
  {
   "cell_type": "code",
   "execution_count": 17,
   "metadata": {},
   "outputs": [
    {
     "name": "stdout",
     "output_type": "stream",
     "text": [
      "float64\n",
      "0\n"
     ]
    }
   ],
   "source": [
    "df_tratado['MEDIA_INSE'] = pd.to_numeric(df_tratado['MEDIA_INSE'], errors='coerce')\n",
    "print(df_tratado['MEDIA_INSE'].dtypes)\n",
    "print(df_tratado['MEDIA_INSE'].isnull().sum())"
   ]
  },
  {
   "cell_type": "code",
   "execution_count": 19,
   "metadata": {},
   "outputs": [
    {
     "name": "stdout",
     "output_type": "stream",
     "text": [
      "       NU_ANO_SAEB   TP_TIPO_REDE     TP_CAPITAL  QTD_ALUNOS_INSE  \\\n",
      "count     125405.0  125405.000000  125405.000000    125405.000000   \n",
      "mean        2021.0       3.259192       1.927044       275.672988   \n",
      "std            0.0       1.326055       0.260065      2036.478301   \n",
      "min         2021.0       1.000000       1.000000         1.000000   \n",
      "25%         2021.0       2.000000       2.000000        37.000000   \n",
      "50%         2021.0       3.000000       2.000000        79.000000   \n",
      "75%         2021.0       3.000000       2.000000       173.000000   \n",
      "max         2021.0       6.000000       2.000000    233700.000000   \n",
      "\n",
      "          MEDIA_INSE     PC_NIVEL_1     PC_NIVEL_2     PC_NIVEL_3  \\\n",
      "count  125405.000000  125405.000000  125405.000000  125405.000000   \n",
      "mean        4.771408       2.500708      17.344796      18.416982   \n",
      "std         0.535976       5.385623      15.808522       9.946696   \n",
      "min         2.450000       0.000000       0.000000       0.000000   \n",
      "25%         4.360000       0.000000       4.250000      10.520000   \n",
      "50%         4.790000       0.230000      12.200000      18.460000   \n",
      "75%         5.200000       2.990000      27.990000      25.410000   \n",
      "max         6.850000     100.000000     100.000000     100.000000   \n",
      "\n",
      "          PC_NIVEL_4     PC_NIVEL_5    PC_NIVEL_6     PC_NIVEL_7  \\\n",
      "count  125405.000000  125405.000000  125405.00000  125405.000000   \n",
      "mean       21.376659      18.932533      12.58965       8.057852   \n",
      "std         8.325906       9.720793       9.78596       8.741854   \n",
      "min         0.000000       0.000000       0.00000       0.000000   \n",
      "25%        16.410000      11.510000       4.36000       1.280000   \n",
      "50%        21.470000      19.440000      10.67000       5.000000   \n",
      "75%        26.240000      25.990000      20.00000      12.640000   \n",
      "max       100.000000     100.000000      90.60000     100.000000   \n",
      "\n",
      "          PC_NIVEL_8  \n",
      "count  125405.000000  \n",
      "mean        0.780706  \n",
      "std         1.567472  \n",
      "min         0.000000  \n",
      "25%         0.000000  \n",
      "50%         0.000000  \n",
      "75%         1.050000  \n",
      "max        37.720000  \n"
     ]
    }
   ],
   "source": [
    "print(df_tratado.describe())"
   ]
  },
  {
   "cell_type": "code",
   "execution_count": 21,
   "metadata": {},
   "outputs": [
    {
     "name": "stdout",
     "output_type": "stream",
     "text": [
      "<class 'pandas.core.frame.DataFrame'>\n",
      "Index: 125405 entries, 0 to 154350\n",
      "Data columns (total 16 columns):\n",
      " #   Column           Non-Null Count   Dtype  \n",
      "---  ------           --------------   -----  \n",
      " 0   NU_ANO_SAEB      125405 non-null  int64  \n",
      " 1   SG_UF            125405 non-null  object \n",
      " 2   NO_UF            125405 non-null  object \n",
      " 3   NO_MUNICIPIO     125405 non-null  object \n",
      " 4   TP_TIPO_REDE     125405 non-null  int64  \n",
      " 5   TP_CAPITAL       125405 non-null  int64  \n",
      " 6   QTD_ALUNOS_INSE  125405 non-null  int64  \n",
      " 7   MEDIA_INSE       125405 non-null  float64\n",
      " 8   PC_NIVEL_1       125405 non-null  float64\n",
      " 9   PC_NIVEL_2       125405 non-null  float64\n",
      " 10  PC_NIVEL_3       125405 non-null  float64\n",
      " 11  PC_NIVEL_4       125405 non-null  float64\n",
      " 12  PC_NIVEL_5       125405 non-null  float64\n",
      " 13  PC_NIVEL_6       125405 non-null  float64\n",
      " 14  PC_NIVEL_7       125405 non-null  float64\n",
      " 15  PC_NIVEL_8       125405 non-null  float64\n",
      "dtypes: float64(9), int64(4), object(3)\n",
      "memory usage: 16.3+ MB\n"
     ]
    }
   ],
   "source": [
    "df_tratado.info()"
   ]
  },
  {
   "cell_type": "code",
   "execution_count": 22,
   "metadata": {},
   "outputs": [
    {
     "data": {
      "application/vnd.microsoft.datawrangler.viewer.v0+json": {
       "columns": [
        {
         "name": "index",
         "rawType": "object",
         "type": "string"
        },
        {
         "name": "NU_ANO_SAEB",
         "rawType": "float64",
         "type": "float"
        },
        {
         "name": "TP_TIPO_REDE",
         "rawType": "float64",
         "type": "float"
        },
        {
         "name": "TP_CAPITAL",
         "rawType": "float64",
         "type": "float"
        },
        {
         "name": "QTD_ALUNOS_INSE",
         "rawType": "float64",
         "type": "float"
        },
        {
         "name": "MEDIA_INSE",
         "rawType": "float64",
         "type": "float"
        },
        {
         "name": "PC_NIVEL_1",
         "rawType": "float64",
         "type": "float"
        },
        {
         "name": "PC_NIVEL_2",
         "rawType": "float64",
         "type": "float"
        },
        {
         "name": "PC_NIVEL_3",
         "rawType": "float64",
         "type": "float"
        },
        {
         "name": "PC_NIVEL_4",
         "rawType": "float64",
         "type": "float"
        },
        {
         "name": "PC_NIVEL_5",
         "rawType": "float64",
         "type": "float"
        },
        {
         "name": "PC_NIVEL_6",
         "rawType": "float64",
         "type": "float"
        },
        {
         "name": "PC_NIVEL_7",
         "rawType": "float64",
         "type": "float"
        },
        {
         "name": "PC_NIVEL_8",
         "rawType": "float64",
         "type": "float"
        }
       ],
       "conversionMethod": "pd.DataFrame",
       "ref": "59e35a2b-e481-42ff-aa5c-e3a71849b474",
       "rows": [
        [
         "count",
         "125405.0",
         "125405.0",
         "125405.0",
         "125405.0",
         "125405.0",
         "125405.0",
         "125405.0",
         "125405.0",
         "125405.0",
         "125405.0",
         "125405.0",
         "125405.0",
         "125405.0"
        ],
        [
         "mean",
         "2021.0",
         "3.2591922172162193",
         "1.9270443762210439",
         "275.6729875204338",
         "4.771408237311111",
         "2.500708265220685",
         "17.344795502571667",
         "18.416981699294283",
         "21.37665898488896",
         "18.932533391810534",
         "12.589650173438061",
         "8.057851919779912",
         "0.7807062716797576"
        ],
        [
         "std",
         "0.0",
         "1.3260552431281034",
         "0.2600646843762099",
         "2036.4783005172048",
         "0.5359762963923825",
         "5.385623096276444",
         "15.808522074861607",
         "9.94669558725444",
         "8.325905588232605",
         "9.720793001168786",
         "9.785960092834198",
         "8.741854153474645",
         "1.567472330765428"
        ],
        [
         "min",
         "2021.0",
         "1.0",
         "1.0",
         "1.0",
         "2.45",
         "0.0",
         "0.0",
         "0.0",
         "0.0",
         "0.0",
         "0.0",
         "0.0",
         "0.0"
        ],
        [
         "25%",
         "2021.0",
         "2.0",
         "2.0",
         "37.0",
         "4.36",
         "0.0",
         "4.25",
         "10.52",
         "16.41",
         "11.51",
         "4.36",
         "1.28",
         "0.0"
        ],
        [
         "50%",
         "2021.0",
         "3.0",
         "2.0",
         "79.0",
         "4.79",
         "0.23",
         "12.2",
         "18.46",
         "21.47",
         "19.44",
         "10.67",
         "5.0",
         "0.0"
        ],
        [
         "75%",
         "2021.0",
         "3.0",
         "2.0",
         "173.0",
         "5.2",
         "2.99",
         "27.99",
         "25.41",
         "26.24",
         "25.99",
         "20.0",
         "12.64",
         "1.05"
        ],
        [
         "max",
         "2021.0",
         "6.0",
         "2.0",
         "233700.0",
         "6.85",
         "100.0",
         "100.0",
         "100.0",
         "100.0",
         "100.0",
         "90.6",
         "100.0",
         "37.72"
        ]
       ],
       "shape": {
        "columns": 13,
        "rows": 8
       }
      },
      "text/html": [
       "<div>\n",
       "<style scoped>\n",
       "    .dataframe tbody tr th:only-of-type {\n",
       "        vertical-align: middle;\n",
       "    }\n",
       "\n",
       "    .dataframe tbody tr th {\n",
       "        vertical-align: top;\n",
       "    }\n",
       "\n",
       "    .dataframe thead th {\n",
       "        text-align: right;\n",
       "    }\n",
       "</style>\n",
       "<table border=\"1\" class=\"dataframe\">\n",
       "  <thead>\n",
       "    <tr style=\"text-align: right;\">\n",
       "      <th></th>\n",
       "      <th>NU_ANO_SAEB</th>\n",
       "      <th>TP_TIPO_REDE</th>\n",
       "      <th>TP_CAPITAL</th>\n",
       "      <th>QTD_ALUNOS_INSE</th>\n",
       "      <th>MEDIA_INSE</th>\n",
       "      <th>PC_NIVEL_1</th>\n",
       "      <th>PC_NIVEL_2</th>\n",
       "      <th>PC_NIVEL_3</th>\n",
       "      <th>PC_NIVEL_4</th>\n",
       "      <th>PC_NIVEL_5</th>\n",
       "      <th>PC_NIVEL_6</th>\n",
       "      <th>PC_NIVEL_7</th>\n",
       "      <th>PC_NIVEL_8</th>\n",
       "    </tr>\n",
       "  </thead>\n",
       "  <tbody>\n",
       "    <tr>\n",
       "      <th>count</th>\n",
       "      <td>125405.0</td>\n",
       "      <td>125405.000000</td>\n",
       "      <td>125405.000000</td>\n",
       "      <td>125405.000000</td>\n",
       "      <td>125405.000000</td>\n",
       "      <td>125405.000000</td>\n",
       "      <td>125405.000000</td>\n",
       "      <td>125405.000000</td>\n",
       "      <td>125405.000000</td>\n",
       "      <td>125405.000000</td>\n",
       "      <td>125405.00000</td>\n",
       "      <td>125405.000000</td>\n",
       "      <td>125405.000000</td>\n",
       "    </tr>\n",
       "    <tr>\n",
       "      <th>mean</th>\n",
       "      <td>2021.0</td>\n",
       "      <td>3.259192</td>\n",
       "      <td>1.927044</td>\n",
       "      <td>275.672988</td>\n",
       "      <td>4.771408</td>\n",
       "      <td>2.500708</td>\n",
       "      <td>17.344796</td>\n",
       "      <td>18.416982</td>\n",
       "      <td>21.376659</td>\n",
       "      <td>18.932533</td>\n",
       "      <td>12.58965</td>\n",
       "      <td>8.057852</td>\n",
       "      <td>0.780706</td>\n",
       "    </tr>\n",
       "    <tr>\n",
       "      <th>std</th>\n",
       "      <td>0.0</td>\n",
       "      <td>1.326055</td>\n",
       "      <td>0.260065</td>\n",
       "      <td>2036.478301</td>\n",
       "      <td>0.535976</td>\n",
       "      <td>5.385623</td>\n",
       "      <td>15.808522</td>\n",
       "      <td>9.946696</td>\n",
       "      <td>8.325906</td>\n",
       "      <td>9.720793</td>\n",
       "      <td>9.78596</td>\n",
       "      <td>8.741854</td>\n",
       "      <td>1.567472</td>\n",
       "    </tr>\n",
       "    <tr>\n",
       "      <th>min</th>\n",
       "      <td>2021.0</td>\n",
       "      <td>1.000000</td>\n",
       "      <td>1.000000</td>\n",
       "      <td>1.000000</td>\n",
       "      <td>2.450000</td>\n",
       "      <td>0.000000</td>\n",
       "      <td>0.000000</td>\n",
       "      <td>0.000000</td>\n",
       "      <td>0.000000</td>\n",
       "      <td>0.000000</td>\n",
       "      <td>0.00000</td>\n",
       "      <td>0.000000</td>\n",
       "      <td>0.000000</td>\n",
       "    </tr>\n",
       "    <tr>\n",
       "      <th>25%</th>\n",
       "      <td>2021.0</td>\n",
       "      <td>2.000000</td>\n",
       "      <td>2.000000</td>\n",
       "      <td>37.000000</td>\n",
       "      <td>4.360000</td>\n",
       "      <td>0.000000</td>\n",
       "      <td>4.250000</td>\n",
       "      <td>10.520000</td>\n",
       "      <td>16.410000</td>\n",
       "      <td>11.510000</td>\n",
       "      <td>4.36000</td>\n",
       "      <td>1.280000</td>\n",
       "      <td>0.000000</td>\n",
       "    </tr>\n",
       "    <tr>\n",
       "      <th>50%</th>\n",
       "      <td>2021.0</td>\n",
       "      <td>3.000000</td>\n",
       "      <td>2.000000</td>\n",
       "      <td>79.000000</td>\n",
       "      <td>4.790000</td>\n",
       "      <td>0.230000</td>\n",
       "      <td>12.200000</td>\n",
       "      <td>18.460000</td>\n",
       "      <td>21.470000</td>\n",
       "      <td>19.440000</td>\n",
       "      <td>10.67000</td>\n",
       "      <td>5.000000</td>\n",
       "      <td>0.000000</td>\n",
       "    </tr>\n",
       "    <tr>\n",
       "      <th>75%</th>\n",
       "      <td>2021.0</td>\n",
       "      <td>3.000000</td>\n",
       "      <td>2.000000</td>\n",
       "      <td>173.000000</td>\n",
       "      <td>5.200000</td>\n",
       "      <td>2.990000</td>\n",
       "      <td>27.990000</td>\n",
       "      <td>25.410000</td>\n",
       "      <td>26.240000</td>\n",
       "      <td>25.990000</td>\n",
       "      <td>20.00000</td>\n",
       "      <td>12.640000</td>\n",
       "      <td>1.050000</td>\n",
       "    </tr>\n",
       "    <tr>\n",
       "      <th>max</th>\n",
       "      <td>2021.0</td>\n",
       "      <td>6.000000</td>\n",
       "      <td>2.000000</td>\n",
       "      <td>233700.000000</td>\n",
       "      <td>6.850000</td>\n",
       "      <td>100.000000</td>\n",
       "      <td>100.000000</td>\n",
       "      <td>100.000000</td>\n",
       "      <td>100.000000</td>\n",
       "      <td>100.000000</td>\n",
       "      <td>90.60000</td>\n",
       "      <td>100.000000</td>\n",
       "      <td>37.720000</td>\n",
       "    </tr>\n",
       "  </tbody>\n",
       "</table>\n",
       "</div>"
      ],
      "text/plain": [
       "       NU_ANO_SAEB   TP_TIPO_REDE     TP_CAPITAL  QTD_ALUNOS_INSE  \\\n",
       "count     125405.0  125405.000000  125405.000000    125405.000000   \n",
       "mean        2021.0       3.259192       1.927044       275.672988   \n",
       "std            0.0       1.326055       0.260065      2036.478301   \n",
       "min         2021.0       1.000000       1.000000         1.000000   \n",
       "25%         2021.0       2.000000       2.000000        37.000000   \n",
       "50%         2021.0       3.000000       2.000000        79.000000   \n",
       "75%         2021.0       3.000000       2.000000       173.000000   \n",
       "max         2021.0       6.000000       2.000000    233700.000000   \n",
       "\n",
       "          MEDIA_INSE     PC_NIVEL_1     PC_NIVEL_2     PC_NIVEL_3  \\\n",
       "count  125405.000000  125405.000000  125405.000000  125405.000000   \n",
       "mean        4.771408       2.500708      17.344796      18.416982   \n",
       "std         0.535976       5.385623      15.808522       9.946696   \n",
       "min         2.450000       0.000000       0.000000       0.000000   \n",
       "25%         4.360000       0.000000       4.250000      10.520000   \n",
       "50%         4.790000       0.230000      12.200000      18.460000   \n",
       "75%         5.200000       2.990000      27.990000      25.410000   \n",
       "max         6.850000     100.000000     100.000000     100.000000   \n",
       "\n",
       "          PC_NIVEL_4     PC_NIVEL_5    PC_NIVEL_6     PC_NIVEL_7  \\\n",
       "count  125405.000000  125405.000000  125405.00000  125405.000000   \n",
       "mean       21.376659      18.932533      12.58965       8.057852   \n",
       "std         8.325906       9.720793       9.78596       8.741854   \n",
       "min         0.000000       0.000000       0.00000       0.000000   \n",
       "25%        16.410000      11.510000       4.36000       1.280000   \n",
       "50%        21.470000      19.440000      10.67000       5.000000   \n",
       "75%        26.240000      25.990000      20.00000      12.640000   \n",
       "max       100.000000     100.000000      90.60000     100.000000   \n",
       "\n",
       "          PC_NIVEL_8  \n",
       "count  125405.000000  \n",
       "mean        0.780706  \n",
       "std         1.567472  \n",
       "min         0.000000  \n",
       "25%         0.000000  \n",
       "50%         0.000000  \n",
       "75%         1.050000  \n",
       "max        37.720000  "
      ]
     },
     "execution_count": 22,
     "metadata": {},
     "output_type": "execute_result"
    }
   ],
   "source": [
    "df_tratado.describe()"
   ]
  },
  {
   "cell_type": "code",
   "execution_count": 24,
   "metadata": {},
   "outputs": [
    {
     "name": "stdout",
     "output_type": "stream",
     "text": [
      "Média do INSE por UF (arredondado para 2 casas decimais):\n",
      "SG_UF\n",
      "AC    4.37\n",
      "AL    4.28\n",
      "AM    4.18\n",
      "AP    4.43\n",
      "BA    4.43\n",
      "CE    4.28\n",
      "DF    5.30\n",
      "ES    4.95\n",
      "GO    5.00\n",
      "MA    4.11\n",
      "MG    4.92\n",
      "MS    5.02\n",
      "MT    4.96\n",
      "PA    4.14\n",
      "PB    4.35\n",
      "PE    4.40\n",
      "PI    4.19\n",
      "PR    5.23\n",
      "RJ    4.91\n",
      "RN    4.49\n",
      "RO    4.80\n",
      "RR    4.39\n",
      "RS    5.35\n",
      "SC    5.45\n",
      "SE    4.30\n",
      "SP    5.27\n",
      "TO    4.57\n",
      "Name: MEDIA_INSE, dtype: float64\n"
     ]
    }
   ],
   "source": [
    "media_inse_por_uf_arredondado = df_tratado.groupby('SG_UF')['MEDIA_INSE'].mean().round(2)\n",
    "print(\"Média do INSE por UF (arredondado para 2 casas decimais):\")\n",
    "print(media_inse_por_uf_arredondado)"
   ]
  },
  {
   "cell_type": "code",
   "execution_count": 25,
   "metadata": {},
   "outputs": [
    {
     "name": "stdout",
     "output_type": "stream",
     "text": [
      "\n",
      "Contagem de registros por Tipo de Rede:\n",
      "TP_TIPO_REDE\n",
      "1      941\n",
      "2    37713\n",
      "3    57912\n",
      "5    14418\n",
      "6    14421\n",
      "dtype: int64\n"
     ]
    }
   ],
   "source": [
    "contagem_por_tipo_rede = df_tratado.groupby('TP_TIPO_REDE').size()\n",
    "print(\"\\nContagem de registros por Tipo de Rede:\")\n",
    "print(contagem_por_tipo_rede)"
   ]
  },
  {
   "cell_type": "code",
   "execution_count": 29,
   "metadata": {},
   "outputs": [
    {
     "name": "stdout",
     "output_type": "stream",
     "text": [
      "TIPO_REDE_NOME\n",
      "Estadual                 57912\n",
      "Privada Não Lucrativa    14421\n",
      "Privada Lucrativa        14418\n",
      "Federal                    941\n",
      "Name: count, dtype: int64\n"
     ]
    }
   ],
   "source": [
    "tipo_rede_mapping = {\n",
    "    1: 'Federal',\n",
    "    3: 'Estadual',\n",
    "    4: 'Municipal',\n",
    "    5: 'Privada Lucrativa',\n",
    "    6: 'Privada Não Lucrativa'\n",
    "}\n",
    "df_tratado['TIPO_REDE_NOME'] = df_tratado['TP_TIPO_REDE'].map(tipo_rede_mapping)\n",
    "print(df_tratado['TIPO_REDE_NOME'].value_counts())"
   ]
  },
  {
   "cell_type": "code",
   "execution_count": 30,
   "metadata": {},
   "outputs": [
    {
     "name": "stdout",
     "output_type": "stream",
     "text": [
      "\n",
      "Média dos percentuais de INSE por Tipo de Rede (Nome):\n",
      "                       PC_NIVEL_1  PC_NIVEL_2  PC_NIVEL_3  PC_NIVEL_4  \\\n",
      "TIPO_REDE_NOME                                                          \n",
      "Estadual                     2.88       18.87       19.68       21.91   \n",
      "Federal                      0.55        9.61       13.11       16.73   \n",
      "Privada Lucrativa            2.43       17.61       18.47       21.20   \n",
      "Privada Não Lucrativa        2.42       17.59       18.45       21.18   \n",
      "\n",
      "                       PC_NIVEL_5  PC_NIVEL_6  PC_NIVEL_7  PC_NIVEL_8  \n",
      "TIPO_REDE_NOME                                                         \n",
      "Estadual                    18.16       11.20        6.66        0.64  \n",
      "Federal                     19.64       18.34       19.32        2.69  \n",
      "Privada Lucrativa           18.83       12.59        8.10        0.77  \n",
      "Privada Não Lucrativa       18.83       12.61        8.13        0.77  \n"
     ]
    }
   ],
   "source": [
    "if 'TIPO_REDE_NOME' in df_tratado.columns:\n",
    "    media_percentuais_por_rede_nome = df_tratado.groupby('TIPO_REDE_NOME')[['PC_NIVEL_1', 'PC_NIVEL_2', 'PC_NIVEL_3', 'PC_NIVEL_4', 'PC_NIVEL_5', 'PC_NIVEL_6', 'PC_NIVEL_7', 'PC_NIVEL_8']].mean().round(2)\n",
    "    print(\"\\nMédia dos percentuais de INSE por Tipo de Rede (Nome):\")\n",
    "    print(media_percentuais_por_rede_nome)\n",
    "else:\n",
    "    media_percentuais_por_rede_codigo = df_tratado.groupby('TP_TIPO_REDE')[['PC_NIVEL_1', 'PC_NIVEL_2', 'PC_NIVEL_3', 'PC_NIVEL_4', 'PC_NIVEL_5', 'PC_NIVEL_6', 'PC_NIVEL_7', 'PC_NIVEL_8']].mean().round(2)\n",
    "    print(\"\\nMédia dos percentuais de INSE por Tipo de Rede (Código):\")\n",
    "    print(media_percentuais_por_rede_codigo)"
   ]
  },
  {
   "cell_type": "code",
   "execution_count": 34,
   "metadata": {},
   "outputs": [
    {
     "data": {
      "image/png": "[encoded data removed]",
      "text/plain": [
       "<Figure size 1200x600 with 1 Axes>"
      ]
     },
     "metadata": {},
     "output_type": "display_data"
    }
   ],
   "source": [
    "plt.figure(figsize=(12, 6))\n",
    "media_inse_por_uf.sort_values().plot(kind='bar')\n",
    "plt.title('Média do Nível Socioeconômico por Estado')\n",
    "plt.xlabel('Estados')\n",
    "plt.ylabel('Média do Nível Socioeconômico')\n",
    "plt.xticks(rotation=45, ha='right')\n",
    "plt.tight_layout()\n",
    "plt.show()"
   ]
  },
  {
   "cell_type": "code",
   "execution_count": 37,
   "metadata": {},
   "outputs": [
    {
     "data": {
      "image/png": "[encoded data removed]",
      "text/plain": [
       "<Figure size 1000x600 with 1 Axes>"
      ]
     },
     "metadata": {},
     "output_type": "display_data"
    }
   ],
   "source": [
    "plt.figure(figsize=(10, 6))\n",
    "sns.histplot(df_tratado['MEDIA_INSE'], bins=20, kde=True)\n",
    "plt.title('Distribuição da Média do Nível Socioeconômico')\n",
    "plt.xlabel('Média do Nível Socioeconômico')\n",
    "plt.ylabel('Frequência')\n",
    "plt.show()"
   ]
  },
  {
   "cell_type": "code",
   "execution_count": 45,
   "metadata": {},
   "outputs": [
    {
     "name": "stderr",
     "output_type": "stream",
     "text": [
      "C:\\Users\\user\\AppData\\Local\\Temp\\ipykernel_2816\\3749722852.py:5: FutureWarning: \n",
      "\n",
      "Passing `palette` without assigning `hue` is deprecated and will be removed in v0.14.0. Assign the `x` variable to `hue` and set `legend=False` for the same effect.\n",
      "\n",
      "  sns.barplot(x=media_inse_por_rede.index, y=media_inse_por_rede.values, palette='viridis')\n"
     ]
    },
    {
     "data": {
      "image/png": "[encoded data removed]",
      "text/plain": [
       "<Figure size 1000x600 with 1 Axes>"
      ]
     },
     "metadata": {},
     "output_type": "display_data"
    }
   ],
   "source": [
    "if 'TIPO_REDE_NOME' in df_tratado.columns:\n",
    "    media_inse_por_rede = df_tratado.groupby('TIPO_REDE_NOME')['MEDIA_INSE'].mean().sort_values()\n",
    "\n",
    "    plt.figure(figsize=(10, 6))\n",
    "    sns.barplot(x=media_inse_por_rede.index, y=media_inse_por_rede.values, palette='viridis')\n",
    "    plt.title('Média do Nível Socioeconômico por Tipo de Rede Educacional')\n",
    "    plt.xlabel('Tipo de Rede Educacional')\n",
    "    plt.ylabel('Média do Nível Socioeconômico')\n",
    "    plt.xticks(rotation=45, ha='right')\n",
    "    plt.tight_layout()\n",
    "    plt.show()\n",
    "else:\n",
    "    # Este bloco só será executado se a coluna 'TIPO_REDE_NOME' não existir\n",
    "    media_inse_por_rede_codigo = df_tratado.groupby('TP_TIPO_REDE')['MEDIA_INSE'].mean().sort_values()\n",
    "    plt.figure(figsize=(8, 6))\n",
    "    sns.barplot(x=media_inse_por_rede_codigo.index, y=media_inse_por_rede_codigo.values, palette='viridis')\n",
    "    plt.title('Média do NívelSocioeconômico por Tipo de Rede Educacional (Código)')\n",
    "    plt.xlabel('Código do Tipo de Rede Educacional')\n",
    "    plt.ylabel('Média do Nível Socioeconômico')\n",
    "    plt.xticks(rotation=0)\n",
    "    plt.tight_layout()\n",
    "    plt.show()"
   ]
  },
  {
   "cell_type": "code",
   "execution_count": 46,
   "metadata": {},
   "outputs": [
    {
     "name": "stdout",
     "output_type": "stream",
     "text": [
      "\n",
      "DataFrame tratado exportado para 'inse_tratado.csv'\n"
     ]
    }
   ],
   "source": [
    "df_tratado.to_csv('inse_tratado.csv', index=False, encoding='utf-8')\n",
    "print(\"\\nDataFrame tratado exportado para 'inse_tratado.csv'\")"
   ]
  }
 ],
 "metadata": {
  "kernelspec": {
   "display_name": ".venv",
   "language": "python",
   "name": "python3"
  },
  "language_info": {
   "codemirror_mode": {
    "name": "ipython",
    "version": 3
   },
   "file_extension": ".py",
   "mimetype": "text/x-python",
   "name": "python",
   "nbconvert_exporter": "python",
   "pygments_lexer": "ipython3",
   "version": "3.13.3"
  }
 },
 "nbformat": 4,
 "nbformat_minor": 2
}
